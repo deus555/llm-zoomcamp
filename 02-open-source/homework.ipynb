{
 "cells": [
  {
   "cell_type": "markdown",
   "id": "08604928-cd37-4d94-9d31-273e6575654d",
   "metadata": {},
   "source": [
    "### Q1"
   ]
  },
  {
   "cell_type": "markdown",
   "id": "132b2993-ad66-4063-b98f-131710892c45",
   "metadata": {},
   "source": [
    "```\n",
    "docker run -it --rm -v ollama:/root/.ollama -p 11434:11434 --name ollama ollama/ollama"
   ]
  },
  {
   "cell_type": "markdown",
   "id": "187c066c-74ac-4f67-8eb9-f4aeb65b4835",
   "metadata": {},
   "source": [
    "```\n",
    "docker exec -it ollama bash\n",
    "ollama --version"
   ]
  },
  {
   "cell_type": "markdown",
   "id": "49603f57-8744-461f-9d4a-4afd6a51e2e6",
   "metadata": {},
   "source": [
    "ollama version is 0.1.46"
   ]
  },
  {
   "cell_type": "markdown",
   "id": "4fa5f56b-44a4-42b1-b4da-c5a2eccf9fd0",
   "metadata": {},
   "source": [
    "### Q2"
   ]
  },
  {
   "cell_type": "markdown",
   "id": "f83b8e30-3509-4711-b68a-f86e0b9bad84",
   "metadata": {},
   "source": [
    "```\n",
    "docker exec -it ollama bash\n",
    "ollama pull gemma:2b"
   ]
  },
  {
   "cell_type": "markdown",
   "id": "394a2cd7-413d-4ea4-b92d-33509d273c4a",
   "metadata": {},
   "source": [
    "models/manifests/registry.ollama.ai/library"
   ]
  },
  {
   "cell_type": "markdown",
   "id": "f84d1674-228d-45b0-a652-a558826c9eeb",
   "metadata": {},
   "source": [
    "```\n",
    "{\"schemaVersion\":2,\"mediaType\":\"application/vnd.docker.distribution.manifest.v2+json\",\"config\":{\"mediaType\":\"application/vnd.docker.container.image.v1+json\",\"digest\":\"sha256:887433b89a901c156f7e6944442f3c9e57f3c55d6ed52042cbb7303aea994290\",\"size\":483},\"layers\":[{\"mediaType\":\"application/vnd.ollama.image.model\",\"digest\":\"sha256:c1864a5eb19305c40519da12cc543519e48a0697ecd30e15d5ac228644957d12\",\"size\":1678447520},{\"mediaType\":\"application/vnd.ollama.image.license\",\"digest\":\"sha256:097a36493f718248845233af1d3fefe7a303f864fae13bc31a3a9704229378ca\",\"size\":8433},{\"mediaType\":\"application/vnd.ollama.image.template\",\"digest\":\"sha256:109037bec39c0becc8221222ae23557559bc594290945a2c4221ab4f303b8871\",\"size\":136},{\"mediaType\":\"application/vnd.ollama.image.params\",\"digest\":\"sha256:22a838ceb7fb22755a3b0ae9b4eadde629d19be1f651f73efb8c6b4e2cd0eea0\",\"size\":84}]}"
   ]
  },
  {
   "cell_type": "markdown",
   "id": "fd8a5179-60ea-49fb-85f0-147f3b84a8b3",
   "metadata": {},
   "source": [
    "### Q3"
   ]
  },
  {
   "cell_type": "code",
   "execution_count": 22,
   "id": "b623180a-8250-4d90-89e2-7bcc713fe2ea",
   "metadata": {},
   "outputs": [
    {
     "data": {
      "text/plain": [
       "'Sure, here is the response you requested:\\n\\n10 * 10 = 100\\n\\n'"
      ]
     },
     "execution_count": 22,
     "metadata": {},
     "output_type": "execute_result"
    }
   ],
   "source": [
    "from openai import OpenAI\n",
    "\n",
    "client = OpenAI(\n",
    "    base_url='http://localhost:11434/v1/',\n",
    "    api_key='ollama',\n",
    ")\n",
    "\n",
    "prompt = \"10 * 10\"\n",
    "\n",
    "response = client.chat.completions.create(\n",
    "    model = 'gemma:2b',\n",
    "    messages = [{\"role\":\"user\", \"content\":prompt}]\n",
    ")\n",
    "\n",
    "response.choices[0].message.content"
   ]
  },
  {
   "cell_type": "markdown",
   "id": "f0168e07-d9d4-4b91-a2aa-bf968f4e4bf9",
   "metadata": {},
   "source": [
    "'Sure, here is the response you requested:\\n\\n10 * 10 = 100\\n\\n'"
   ]
  },
  {
   "cell_type": "markdown",
   "id": "16187cd7-0daa-4c11-9e48-9eabd45a66f2",
   "metadata": {},
   "source": [
    "### Q4"
   ]
  },
  {
   "cell_type": "markdown",
   "id": "3120559e-97c4-4b04-ad63-1564238dcbb1",
   "metadata": {},
   "source": [
    "```\n",
    "mkdir ollama_files\n",
    "\n",
    "docker run -it --rm -v ./ollama_files:/root/.ollama -p 11434:11434 --name ollama ollama/ollama\n",
    "\n",
    "docker exec -it ollama ollama pull gemma:2b "
   ]
  },
  {
   "cell_type": "markdown",
   "id": "407f7cca-8a6c-4ed1-9480-30b8c68b0d1f",
   "metadata": {},
   "source": [
    "```\n",
    "# du -h /root/.ollama\n",
    "1.6G    /root/.ollama/models/blobs\n",
    "8.0K    /root/.ollama/models/manifests/registry.ollama.ai/library/gemma\n",
    "12K     /root/.ollama/models/manifests/registry.ollama.ai/library\n",
    "16K     /root/.ollama/models/manifests/registry.ollama.ai\n",
    "20K     /root/.ollama/models/manifests\n",
    "1.6G    /root/.ollama/models\n",
    "1.6G    /root/.ollama"
   ]
  },
  {
   "cell_type": "markdown",
   "id": "e1b01e11-14cd-48f3-a353-b61b356cd2fe",
   "metadata": {},
   "source": [
    "### Q5"
   ]
  },
  {
   "cell_type": "markdown",
   "id": "84cdbbba-6c95-417f-8f3f-e046dc947f4f",
   "metadata": {},
   "source": [
    "```\n",
    "FROM ollama/ollama\n",
    "\n",
    "COPY ./ollama_files /root/.ollama"
   ]
  },
  {
   "cell_type": "markdown",
   "id": "ae739690-18c2-44d1-94a0-42bcecf3de18",
   "metadata": {},
   "source": [
    "### Q6"
   ]
  },
  {
   "cell_type": "markdown",
   "id": "e8f6e8dc-ad8d-4ae7-ada4-cfe09483b891",
   "metadata": {},
   "source": [
    "```\n",
    "docker build -t ollama-gemma2b .\n",
    "docker run -it --rm -p 11434:11434 ollama-gemma2b"
   ]
  },
  {
   "cell_type": "code",
   "execution_count": 11,
   "id": "f715cb00-87a7-4105-b634-69976790a330",
   "metadata": {},
   "outputs": [
    {
     "name": "stdout",
     "output_type": "stream",
     "text": [
      "CompletionUsage(completion_tokens=304, prompt_tokens=0, total_tokens=304)\n",
      "Sure, here's the formula for energy:\n",
      "\n",
      "**E = K + U**\n",
      "\n",
      "Where:\n",
      "\n",
      "* **E** is the energy in joules (J)\n",
      "* **K** is the kinetic energy in joules (J)\n",
      "* **U** is the potential energy in joules (J)\n",
      "\n",
      "**Kinetic energy (K)** is the energy an object possesses when it moves or is in motion. It is calculated as half the product of an object's mass (m) and its velocity (v) squared:\n",
      "\n",
      "**K = 1/2 * m * v^2**\n",
      "\n",
      "**Potential energy (U)** is the energy an object possesses when it is in a position or has a specific configuration. It is calculated as the product of an object's mass and the gravitational constant (g) multiplied by the height or distance of the object from a reference point.\n",
      "\n",
      "**Gravitational potential energy (U)** is given by the formula:\n",
      "\n",
      "**U = mgh**\n",
      "\n",
      "Where:\n",
      "\n",
      "* **m** is the mass of the object in kilograms (kg)\n",
      "* **g** is the acceleration due to gravity in meters per second squared (m/s^2)\n",
      "* **h** is the height or distance of the object in meters (m)\n",
      "\n",
      "The formula for energy can be used to calculate the total energy of an object, the energy of a specific part of an object, or the change in energy of an object over time.\n"
     ]
    }
   ],
   "source": [
    "from openai import OpenAI\n",
    "\n",
    "client = OpenAI(\n",
    "    base_url='http://localhost:11434/v1/',\n",
    "    api_key='ollama',\n",
    ")\n",
    "\n",
    "prompt = \"What's the formula for energy?\"\n",
    "\n",
    "response = client.chat.completions.create(\n",
    "    model = 'gemma:2b',\n",
    "    messages = [{\"role\":\"user\", \"content\":prompt}],\n",
    "    temperature=0.0\n",
    ")\n",
    "print(response.usage)\n",
    "\n",
    "response = response.choices[0].message.content\n",
    "print(response)"
   ]
  },
  {
   "cell_type": "code",
   "execution_count": 12,
   "id": "f0c17270-2a5e-465f-951f-e88027475efe",
   "metadata": {},
   "outputs": [
    {
     "name": "stdout",
     "output_type": "stream",
     "text": [
      "304\n"
     ]
    }
   ],
   "source": [
    "from transformers import AutoTokenizer\n",
    "\n",
    "tokenizer = AutoTokenizer.from_pretrained(\"google/gemma-2b\")\n",
    "tokens = tokenizer(response, return_tensors=\"pt\").to(\"cuda\")\n",
    "print(len(tokens[0]))"
   ]
  },
  {
   "cell_type": "code",
   "execution_count": null,
   "id": "56ed8a29-6cf0-4200-9ba5-ee16b586f959",
   "metadata": {},
   "outputs": [],
   "source": []
  }
 ],
 "metadata": {
  "kernelspec": {
   "display_name": "Python 3 (ipykernel)",
   "language": "python",
   "name": "python3"
  },
  "language_info": {
   "codemirror_mode": {
    "name": "ipython",
    "version": 3
   },
   "file_extension": ".py",
   "mimetype": "text/x-python",
   "name": "python",
   "nbconvert_exporter": "python",
   "pygments_lexer": "ipython3",
   "version": "3.10.0"
  }
 },
 "nbformat": 4,
 "nbformat_minor": 5
}
