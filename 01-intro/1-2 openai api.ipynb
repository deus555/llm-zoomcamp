{
 "cells": [
  {
   "cell_type": "code",
   "execution_count": 1,
   "id": "c7be6f87-6250-4a65-b166-68af2885cf7c",
   "metadata": {},
   "outputs": [],
   "source": [
    "import openai"
   ]
  },
  {
   "cell_type": "code",
   "execution_count": 2,
   "id": "42e1da91-a79a-44f4-8ef2-5052e936d336",
   "metadata": {},
   "outputs": [],
   "source": [
    "from openai import OpenAI"
   ]
  },
  {
   "cell_type": "code",
   "execution_count": 3,
   "id": "f9426614-2d72-4005-8131-207417a3875a",
   "metadata": {},
   "outputs": [],
   "source": [
    "client = OpenAI()"
   ]
  },
  {
   "cell_type": "raw",
   "id": "c4b634fd-c124-45aa-85e7-b61ca9cbf7f0",
   "metadata": {},
   "source": [
    "https://platform.openai.com/\n",
    "create account\n",
    "top up (5$ is enough)\n",
    "create API key\n",
    "export openai api key"
   ]
  },
  {
   "cell_type": "code",
   "execution_count": 19,
   "id": "ff3d43cd-ef35-4599-b0c4-af6c73eb435f",
   "metadata": {},
   "outputs": [],
   "source": [
    "##check api key:\n",
    "#import os\n",
    "#os.environ"
   ]
  },
  {
   "cell_type": "code",
   "execution_count": 20,
   "id": "41da0064-806f-42e2-9549-f0b352bfe992",
   "metadata": {},
   "outputs": [],
   "source": [
    "response = client.chat.completions.create(\n",
    "    model = 'gpt-4o',\n",
    "    messages = [{\"role\":\"user\", \"content\":\"is it too late to join the course?\"}]\n",
    ")"
   ]
  },
  {
   "cell_type": "code",
   "execution_count": null,
   "id": "cbaa3b65-9671-493f-9fb3-685db8200d87",
   "metadata": {},
   "outputs": [],
   "source": [
    "response"
   ]
  }
 ],
 "metadata": {
  "kernelspec": {
   "display_name": "Python 3 (ipykernel)",
   "language": "python",
   "name": "python3"
  },
  "language_info": {
   "codemirror_mode": {
    "name": "ipython",
    "version": 3
   },
   "file_extension": ".py",
   "mimetype": "text/x-python",
   "name": "python",
   "nbconvert_exporter": "python",
   "pygments_lexer": "ipython3",
   "version": "3.12.3"
  }
 },
 "nbformat": 4,
 "nbformat_minor": 5
}
