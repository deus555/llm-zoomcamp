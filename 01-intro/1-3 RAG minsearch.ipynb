{
 "cells": [
  {
   "cell_type": "code",
   "execution_count": null,
   "id": "2c93f81b-5786-480c-a92b-5257e7dcf222",
   "metadata": {},
   "outputs": [],
   "source": [
    "import minsearch\n",
    "import json"
   ]
  },
  {
   "cell_type": "code",
   "execution_count": null,
   "id": "1f4f497a-f27e-4c9a-9b16-d2854e1c3ea0",
   "metadata": {},
   "outputs": [],
   "source": [
    "with open('documents.json', 'rt') as f_in:\n",
    "    docs_raw = json.load(f_in)\n",
    "\n",
    "documents = []\n",
    "\n",
    "for course_dict in docs_raw:\n",
    "    for doc in course_dict['documents']:\n",
    "        doc['course'] = course_dict['course']\n",
    "        documents.append(doc)"
   ]
  },
  {
   "cell_type": "code",
   "execution_count": null,
   "id": "a292ed93-008a-468a-bfa0-39d38ed5a59c",
   "metadata": {},
   "outputs": [],
   "source": [
    "documents[0]"
   ]
  },
  {
   "cell_type": "code",
   "execution_count": null,
   "id": "09a78c9b-c1d9-4d92-ba77-2fca920204da",
   "metadata": {},
   "outputs": [],
   "source": [
    "index = minsearch.Index(\n",
    "    text_fields=[\"question\", \"text\", \"section\"],\n",
    "    keyword_fields=[\"course\"]\n",
    ")"
   ]
  },
  {
   "cell_type": "code",
   "execution_count": null,
   "id": "5f24d696-83f9-40b4-a6d0-6a62546bb778",
   "metadata": {},
   "outputs": [],
   "source": [
    "q = \"can i still enroll?\""
   ]
  },
  {
   "cell_type": "code",
   "execution_count": null,
   "id": "8e72d324-bb96-4528-b603-6a39c12de0db",
   "metadata": {},
   "outputs": [],
   "source": [
    "index.fit(documents)"
   ]
  },
  {
   "cell_type": "code",
   "execution_count": null,
   "id": "e6fb6c13-9db5-456e-9457-3f787f17c947",
   "metadata": {},
   "outputs": [],
   "source": [
    "boost = { \"question\" : 3, \"section\" : 0.5 }\n",
    "\n",
    "index.search(\n",
    "    query = q,\n",
    "    filter_dict = {\"course\": \"data-engineering-zoomcamp\"},\n",
    "    boost_dict = boost,\n",
    "    num_results=5\n",
    ")"
   ]
  },
  {
   "cell_type": "code",
   "execution_count": null,
   "id": "79e7ad17-c7f6-4361-a567-4502f7f20247",
   "metadata": {},
   "outputs": [],
   "source": []
  }
 ],
 "metadata": {
  "kernelspec": {
   "display_name": "Python 3 (ipykernel)",
   "language": "python",
   "name": "python3"
  },
  "language_info": {
   "codemirror_mode": {
    "name": "ipython",
    "version": 3
   },
   "file_extension": ".py",
   "mimetype": "text/x-python",
   "name": "python",
   "nbconvert_exporter": "python",
   "pygments_lexer": "ipython3",
   "version": "3.10.0"
  }
 },
 "nbformat": 4,
 "nbformat_minor": 5
}
