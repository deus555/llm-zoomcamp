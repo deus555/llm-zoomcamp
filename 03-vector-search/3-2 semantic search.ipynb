{
 "cells": [
  {
   "cell_type": "code",
   "execution_count": 2,
   "id": "a75f717b-b1bb-43ac-83d2-d5c327921378",
   "metadata": {},
   "outputs": [
    {
     "data": {
      "text/plain": [
       "True"
      ]
     },
     "execution_count": 2,
     "metadata": {},
     "output_type": "execute_result"
    }
   ],
   "source": [
    "import json\n",
    "from sentence_transformers import SentenceTransformer\n",
    "from elasticsearch import Elasticsearch\n",
    "import torch\n",
    "from tqdm.auto import tqdm\n",
    "torch.cuda.is_available()"
   ]
  },
  {
   "cell_type": "markdown",
   "id": "03b84583-9c7f-4eec-8376-a1026203998a",
   "metadata": {},
   "source": [
    "# Step 1: Prepare documents"
   ]
  },
  {
   "cell_type": "code",
   "execution_count": 16,
   "id": "7d885ae4-a538-4892-b6bc-8a903e6d29e5",
   "metadata": {},
   "outputs": [],
   "source": [
    "with open('documents.json', 'rt') as f_in:\n",
    "    docs_raw = json.load(f_in)"
   ]
  },
  {
   "cell_type": "code",
   "execution_count": 17,
   "id": "095008d2-3093-42b4-9f14-43a3542c6357",
   "metadata": {},
   "outputs": [],
   "source": [
    "#docs_raw"
   ]
  },
  {
   "cell_type": "code",
   "execution_count": 18,
   "id": "18329dc5-a87f-4199-94ff-1735808b9961",
   "metadata": {},
   "outputs": [
    {
     "data": {
      "text/plain": [
       "{'text': 'GitHub - DataTalksClub data-engineering-zoomcamp#prerequisites',\n",
       " 'section': 'General course-related questions',\n",
       " 'question': 'Course - What are the prerequisites for this course?',\n",
       " 'course': 'data-engineering-zoomcamp'}"
      ]
     },
     "execution_count": 18,
     "metadata": {},
     "output_type": "execute_result"
    }
   ],
   "source": [
    "documents = []\n",
    "\n",
    "for course_dict in docs_raw:\n",
    "    for doc in course_dict['documents']:\n",
    "        doc['course'] = course_dict['course']\n",
    "        documents.append(doc)\n",
    "\n",
    "documents[1]"
   ]
  },
  {
   "cell_type": "markdown",
   "id": "a8dd5e64-e957-4263-b43b-6a6915a3a446",
   "metadata": {},
   "source": [
    "# Step 2: Create Embeddings using Pretrained Models\n",
    "\n",
    "Sentence Transformers documentation here: https://www.sbert.net/docs/sentence_transformer/pretrained_models.html"
   ]
  },
  {
   "cell_type": "code",
   "execution_count": null,
   "id": "7ecb7f8a-786b-4c8c-9d0b-744fb5c16a46",
   "metadata": {},
   "outputs": [],
   "source": [
    "# This is a new library compared to the previous modules. \n",
    "# Please perform \"pip install sentence_transformers==2.7.0\"\n",
    "\n",
    "\n",
    "# if you get an error do the following:\n",
    "# 1. Uninstall numpy \n",
    "# 2. Uninstall torch\n",
    "# 3. pip install numpy==1.26.4\n",
    "# 4. pip install torch (cuda version)\n",
    "# run the above cell, it should work\n",
    "model = SentenceTransformer(\"all-mpnet-base-v2\", device='cuda')"
   ]
  },
  {
   "cell_type": "code",
   "execution_count": null,
   "id": "e215f116-4b15-4552-9358-ff4d2a28e920",
   "metadata": {},
   "outputs": [],
   "source": [
    "len(model.encode(\"This is a simple sentence\"))"
   ]
  },
  {
   "cell_type": "code",
   "execution_count": null,
   "id": "7ae831ad-6309-41c3-af46-a9ddf33db649",
   "metadata": {},
   "outputs": [],
   "source": [
    "operations = []\n",
    "for doc in tqdm(documents):\n",
    "    # Transforming the title into an embedding using the model\n",
    "    doc[\"text_vector\"] = model.encode(doc[\"text\"]).tolist()\n",
    "    operations.append(doc)"
   ]
  },
  {
   "cell_type": "markdown",
   "id": "4eb3426e-1f07-4527-828b-e4ca4a047175",
   "metadata": {},
   "source": [
    "# Step 3: Setup ElasticSearch connection"
   ]
  },
  {
   "cell_type": "code",
   "execution_count": 3,
   "id": "ab8bf42e-a87a-447d-b7a0-354463702c53",
   "metadata": {},
   "outputs": [
    {
     "data": {
      "text/plain": [
       "ObjectApiResponse({'name': 'd8f7ced0e27c', 'cluster_name': 'docker-cluster', 'cluster_uuid': 'qyzBw4GHSaaVZAlwLeZukA', 'version': {'number': '8.4.3', 'build_flavor': 'default', 'build_type': 'docker', 'build_hash': '42f05b9372a9a4a470db3b52817899b99a76ee73', 'build_date': '2022-10-04T07:17:24.662462378Z', 'build_snapshot': False, 'lucene_version': '9.3.0', 'minimum_wire_compatibility_version': '7.17.0', 'minimum_index_compatibility_version': '7.0.0'}, 'tagline': 'You Know, for Search'})"
      ]
     },
     "execution_count": 3,
     "metadata": {},
     "output_type": "execute_result"
    }
   ],
   "source": [
    "es_client = Elasticsearch('http://localhost:9200') \n",
    "\n",
    "es_client.info()"
   ]
  },
  {
   "cell_type": "markdown",
   "id": "cf469788-c74f-4feb-bedf-3d4431851dac",
   "metadata": {},
   "source": [
    "# Step 4: Create Mappings and Index\n",
    "\n",
    "- Mapping is the process of defining how a document, and the fields it contains, are stored and indexed.\n",
    "\n",
    "- Each document is a collection of fields, which each have their own data type.\n",
    "\n",
    "- We can compare mapping to a database schema in how it describes the fields and properties that documents hold, the datatype of each field (e.g., string, integer, or date), and how those fields should be indexed and stored"
   ]
  },
  {
   "cell_type": "code",
   "execution_count": null,
   "id": "e983bd0f-aeba-4f54-89b8-a650f1091f80",
   "metadata": {},
   "outputs": [],
   "source": [
    "index_settings = {\n",
    "    \"settings\": {\n",
    "        \"number_of_shards\": 1,\n",
    "        \"number_of_replicas\": 0\n",
    "    },\n",
    "    \"mappings\": {\n",
    "        \"properties\": {\n",
    "            \"text\": {\"type\": \"text\"},\n",
    "            \"section\": {\"type\": \"text\"},\n",
    "            \"question\": {\"type\": \"text\"},\n",
    "            \"course\": {\"type\": \"keyword\"} ,\n",
    "            \"text_vector\": {\"type\": \"dense_vector\", \"dims\": 768, \"index\": True, \"similarity\": \"cosine\"},\n",
    "        }\n",
    "    }\n",
    "}"
   ]
  },
  {
   "cell_type": "code",
   "execution_count": 9,
   "id": "64840686-8085-4df0-a4f1-d915bd7dd815",
   "metadata": {},
   "outputs": [],
   "source": [
    "index_name = \"course-questions\""
   ]
  },
  {
   "cell_type": "code",
   "execution_count": null,
   "id": "91fa0e54-3c74-4b3a-a1f6-ea85c099915b",
   "metadata": {},
   "outputs": [],
   "source": [
    "es_client.indices.delete(index=index_name, ignore_unavailable=True)\n",
    "es_client.indices.create(index=index_name, body=index_settings)"
   ]
  },
  {
   "cell_type": "markdown",
   "id": "9dfd5d30-51c8-4f9b-b075-36fdb7242dbf",
   "metadata": {},
   "source": [
    "# Step 5: Add documents into index"
   ]
  },
  {
   "cell_type": "code",
   "execution_count": null,
   "id": "efac1a2e-9d81-4c0a-a642-bc46fb57212d",
   "metadata": {},
   "outputs": [],
   "source": [
    "for doc in tqdm(operations):\n",
    "    try:\n",
    "        es_client.index(index=index_name, document=doc)\n",
    "    except Exception as e:\n",
    "        print(e)"
   ]
  },
  {
   "cell_type": "markdown",
   "id": "0a24784d-e402-438f-82c7-6a3015b261d8",
   "metadata": {},
   "source": [
    "# Step 6: Create end user query"
   ]
  },
  {
   "cell_type": "code",
   "execution_count": 24,
   "id": "a056f3dd-2f08-4109-9432-5b0baed3070e",
   "metadata": {},
   "outputs": [],
   "source": [
    "search_term = \"windows or mac?\"\n",
    "vector_search_term = model.encode(search_term)"
   ]
  },
  {
   "cell_type": "code",
   "execution_count": null,
   "id": "7da104b4-38c0-4610-a1a5-2e5f3a7c9519",
   "metadata": {},
   "outputs": [],
   "source": [
    "knn_query = {\n",
    "    \"field\": \"text_vector\",\n",
    "    \"query_vector\": vector_search_term,\n",
    "    \"k\": 5,\n",
    "    \"num_candidates\": 10000, \n",
    "}\n",
    "res = es_client.search(index=index_name, knn=knn_query, source=[\"text\", \"section\", \"question\", \"course\"])\n",
    "res[\"hits\"][\"hits\"]"
   ]
  },
  {
   "cell_type": "code",
   "execution_count": null,
   "id": "119e5a2c-0e72-40b4-8baf-841e2f671ca5",
   "metadata": {},
   "outputs": [],
   "source": [
    "query = {\n",
    "    \"bool\": {\n",
    "        \"must\": {\n",
    "            \"multi_match\": {\n",
    "                \"query\": search_term,\n",
    "                \"fields\": [\"text\", \"section\", \"question\", \"course\"],\n",
    "                \"type\": \"best_fields\"\n",
    "            }\n",
    "        },\n",
    "        \"filter\": {\n",
    "            \"term\": {\n",
    "                \"course\": \"data-engineering-zoomcamp\"\n",
    "            }\n",
    "        }\n",
    "    }\n",
    "}\n",
    "res = es_client.search(index=index_name, query=query)\n",
    "res[\"hits\"][\"hits\"]"
   ]
  },
  {
   "cell_type": "markdown",
   "id": "aedc3dae-a1bf-48a5-ae26-f0190151063d",
   "metadata": {},
   "source": [
    "# Step 7: Perform Keyword search with Semantic Search (Hybrid/Advanced Search)"
   ]
  },
  {
   "cell_type": "code",
   "execution_count": 21,
   "id": "56b4d79e-eaa3-48e3-8c5c-b3191f6aab40",
   "metadata": {},
   "outputs": [],
   "source": [
    "# Note: I made a minor modification to the query shown in the notebook here\n",
    "# (compare to the one shown in the video)\n",
    "# Included \"knn\" in the search query (to perform a semantic search) along with the filter  \n",
    "knn_query = {\n",
    "    \"field\": \"text_vector\",\n",
    "    \"query_vector\": vector_search_term,\n",
    "    \"k\": 5,\n",
    "    \"num_candidates\": 10000\n",
    "}"
   ]
  },
  {
   "cell_type": "code",
   "execution_count": 25,
   "id": "ed631139-1c5c-4ef2-845c-e6a3efcd878f",
   "metadata": {},
   "outputs": [],
   "source": [
    "response = es_client.search(\n",
    "    index=index_name,\n",
    "    query={\n",
    "        \"match\": {\"section\": \"General course-related questions\"},\n",
    "    },\n",
    "    knn=knn_query,\n",
    "    size=5,\n",
    "    explain=True\n",
    ")"
   ]
  },
  {
   "cell_type": "code",
   "execution_count": null,
   "id": "9f6ebd56-3802-4057-b4a2-a368986d62e0",
   "metadata": {},
   "outputs": [],
   "source": [
    "response[\"hits\"][\"hits\"]"
   ]
  },
  {
   "cell_type": "code",
   "execution_count": null,
   "id": "799c4379-8817-437d-90dc-2eb896843ec4",
   "metadata": {},
   "outputs": [],
   "source": []
  }
 ],
 "metadata": {
  "kernelspec": {
   "display_name": "Python 3 (ipykernel)",
   "language": "python",
   "name": "python3"
  },
  "language_info": {
   "codemirror_mode": {
    "name": "ipython",
    "version": 3
   },
   "file_extension": ".py",
   "mimetype": "text/x-python",
   "name": "python",
   "nbconvert_exporter": "python",
   "pygments_lexer": "ipython3",
   "version": "3.10.0"
  }
 },
 "nbformat": 4,
 "nbformat_minor": 5
}
